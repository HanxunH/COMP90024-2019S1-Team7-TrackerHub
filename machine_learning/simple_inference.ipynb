{
 "cells": [
  {
   "cell_type": "markdown",
   "metadata": {},
   "source": [
    "在 COMP90024-2019S1-Team7/machine_learning/ 下建立一个叫checkpoints的文件夹, 把模型文件放进去 "
   ]
  },
  {
   "cell_type": "code",
   "execution_count": 1,
   "metadata": {},
   "outputs": [],
   "source": [
    "import matplotlib.pyplot as plt\n",
    "import matplotlib.image as mpimg\n",
    "import numpy as np\n",
    "%matplotlib inline\n",
    "\n",
    "#这个是要测试得图片路径\n",
    "test_image_path = '/Users/hanxunhuang/Data/nsfw/porn/ZRzHcnk.jpg'\n",
    "\n",
    "#先显示图片看看\n",
    "img = mpimg.imread(test_image_path)\n",
    "# plt.imshow(img)\n"
   ]
  },
  {
   "cell_type": "markdown",
   "metadata": {},
   "source": [
    "Benchmark一下看看各个model的performance, 取top5和score, 这个score是softmax之后的probability"
   ]
  },
  {
   "cell_type": "code",
   "execution_count": 5,
   "metadata": {},
   "outputs": [
    {
     "name": "stdout",
     "output_type": "stream",
     "text": [
      "building resnet50\n",
      "building resnet101\n",
      "building resnet50\n",
      "building resnet101\n",
      "====================NSFW====================\n",
      "inference took 0.3171s\n",
      "model_arc: resnet50\n",
      "model_type: nsfw\n",
      "test_acc: 0.8814\tbest_acc: 0.8814\ttest_acc_top5: 1.0000\n",
      "\n",
      "inference took 0.4951s\n",
      "model_arc: resnet101\n",
      "model_type: nsfw\n",
      "test_acc: 0.8722\tbest_acc: 0.8722\ttest_acc_top5: 1.0000\n",
      "\n",
      "====================Food179====================\n",
      "inference took 0.1440s\n",
      "model_arc: mobilenet\n",
      "model_type: food179\n",
      "test_acc: 0.5784\tbest_acc: 0.5784\ttest_acc_top5: 0.8087\n",
      "\n",
      "inference took 0.3017s\n",
      "model_arc: resnet50\n",
      "model_type: food179\n",
      "test_acc: 0.6552\tbest_acc: 0.6552\ttest_acc_top5: 0.8593\n",
      "\n",
      "inference took 0.5005s\n",
      "model_arc: resnet101\n",
      "model_type: food179\n",
      "test_acc: 0.6147\tbest_acc: 0.6147\ttest_acc_top5: 0.8352\n",
      "\n"
     ]
    }
   ],
   "source": [
    "from coconut_inference import coconut_inference\n",
    "import time\n",
    "\n",
    "def test_time(coconut):\n",
    "    start = time.time()\n",
    "    rs = coconut.inference(image_path=test_image_path, num_of_perdict=5)\n",
    "    end = time.time()\n",
    "    print('inference took %.4fs' % (end - start))\n",
    "\n",
    "# NSFW 模型路径\n",
    "nsfw_mobilenet_path = 'checkpoints/nsfw_mobilenet_sgd.pth_best.pth'\n",
    "nsfw_resnet50_path = 'checkpoints/nsfw_resnet50_sgd.pth_best.pth'\n",
    "nsfw_resnet101_path = 'checkpoints/nsfw_resnet101_adabound.pth_best.pth'\n",
    "\n",
    "# Food179 模型路径\n",
    "food179_mobilenet_path = 'checkpoints/food179_mobilenet_sgd.pth_best.pth'\n",
    "food179_resnet50_path = 'checkpoints/food179_resnet50_sgd.pth_best.pth'\n",
    "food179_resnet101_path = 'checkpoints/food179_resnet101_adabound.pth_best.pth'\n",
    "\n",
    "# 建立Inference\n",
    "# coconut_nsfw_mobilenet = coconut_inference(model_checkpoint_file_path=nsfw_mobilenet_path)\n",
    "coconut_nsfw_resnet50 = coconut_inference(model_checkpoint_file_path=nsfw_resnet50_path)\n",
    "coconut_nsfw_resnet101 = coconut_inference(model_checkpoint_file_path=nsfw_resnet101_path)\n",
    "\n",
    "coconut_food179_mobilenet = coconut_inference(model_checkpoint_file_path=food179_mobilenet_path)\n",
    "coconut_food179_resnet50 = coconut_inference(model_checkpoint_file_path=food179_resnet50_path)\n",
    "coconut_food179_resnet101 = coconut_inference(model_checkpoint_file_path=food179_resnet101_path)\n",
    "\n",
    "\n",
    "print('=' * 20 + 'NSFW' + '=' * 20)\n",
    "\n",
    "# test_time(coconut_nsfw_mobilenet)\n",
    "# coconut_nsfw_mobilenet.print_model_details()\n",
    "\n",
    "test_time(coconut_nsfw_resnet50)\n",
    "coconut_nsfw_resnet50.print_model_details()\n",
    "\n",
    "test_time(coconut_nsfw_resnet101)\n",
    "coconut_nsfw_resnet101.print_model_details()\n",
    "\n",
    "print('=' * 20 + 'Food179' + '=' * 20)\n",
    "test_time(coconut_food179_mobilenet)\n",
    "coconut_food179_mobilenet.print_model_details()\n",
    "\n",
    "test_time(coconut_food179_resnet50)\n",
    "coconut_food179_resnet50.print_model_details()\n",
    "\n",
    "test_time(coconut_food179_resnet101)\n",
    "coconut_food179_resnet101.print_model_details()\n"
   ]
  },
  {
   "cell_type": "markdown",
   "metadata": {},
   "source": [
    "选一个模型跑一个测试"
   ]
  },
  {
   "cell_type": "code",
   "execution_count": 6,
   "metadata": {},
   "outputs": [
    {
     "name": "stdout",
     "output_type": "stream",
     "text": [
      "inference took 0.8800s\n",
      "[('porn', 0.9987853169441223), ('sexy', 0.001078074099496007), ('neutral', 0.00013013900024816394), ('hentai', 4.369196631159866e-06), ('drawings', 2.0301936274336185e-06)]\n"
     ]
    }
   ],
   "source": [
    "#这个是要测试得图片路径\n",
    "test_image_path = '/Users/hanxunhuang/Desktop/test/17044531.jpg'\n",
    "#先显示图片看看\n",
    "img = mpimg.imread(test_image_path)\n",
    "plt.imshow(img)\n",
    "\n",
    "start = time.time()\n",
    "rs = coconut_nsfw_resnet50.inference(image_path=test_image_path, num_of_perdict=5)\n",
    "end = time.time()\n",
    "print('inference took %.4fs' % (end - start))\n",
    "print(rs)"
   ]
  },
  {
   "cell_type": "markdown",
   "metadata": {},
   "source": [
    "这个是当前模型处理的所有类别"
   ]
  },
  {
   "cell_type": "code",
   "execution_count": null,
   "metadata": {},
   "outputs": [],
   "source": [
    "print(coconut.model_idx_to_class)"
   ]
  },
  {
   "cell_type": "code",
   "execution_count": null,
   "metadata": {},
   "outputs": [],
   "source": []
  }
 ],
 "metadata": {
  "kernelspec": {
   "display_name": "Python 3",
   "language": "python",
   "name": "python3"
  },
  "language_info": {
   "codemirror_mode": {
    "name": "ipython",
    "version": 3
   },
   "file_extension": ".py",
   "mimetype": "text/x-python",
   "name": "python",
   "nbconvert_exporter": "python",
   "pygments_lexer": "ipython3",
   "version": "3.6.5"
  }
 },
 "nbformat": 4,
 "nbformat_minor": 2
}
